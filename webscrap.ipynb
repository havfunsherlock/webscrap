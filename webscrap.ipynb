{
  "nbformat": 4,
  "nbformat_minor": 0,
  "metadata": {
    "colab": {
      "name": "webscrap.ipynb",
      "provenance": [],
      "collapsed_sections": [],
      "authorship_tag": "ABX9TyNmtE7BCiI3O2SAM3ETHUCQ"
    },
    "kernelspec": {
      "name": "python3",
      "display_name": "Python 3"
    },
    "language_info": {
      "name": "python"
    }
  },
  "cells": [
    {
      "cell_type": "markdown",
      "metadata": {
        "id": "MAc4x5AyoMBi"
      },
      "source": [
        "<div class=\"dc-u-p-24\"><h1 class=\"dc-u-fs-h3\">Web-scraping is not nonsense!</h1><div class=\"\"><p>Select which of the following is <em>not</em> correct.</p></div></div>\n",
        "\n",
        "# <div class=\"dc-panel__body\" style=\"position: relative;\"><h4>Possible Answers</h4><ul class=\"dc-u-lst-none dc-u-m-none dc-u-p-16 dc-u-w-100pc\"><li class=\"dc-u-mt-16 dc-u-fx dc-u-fx-jcsb\" data-cy=\"radio-list-option(0)\"><div><label class=\"dc-input-radio dc-u-cursor-pointer\" for=\"0\"><input class=\"dc-input-radio__input\" id=\"0\" name=\"exercise=526214\" type=\"radio\" value=\"0\"><span class=\"dc-input-radio__indicator\"></span><span class=\"dc-input-radio__text\"><div class=\"\">Web scraping can be useful for looking through product reviews to gauge public opinion about a particular product.</div></span></label></div><div class=\"dc-u-fx-aic dc-u-ifx\">press<label class=\"dc-u-cursor-pointer dc-u-bgc-navy dc-u-ml-8 dc-u-brad-all dc-u-bs-lg dc-u-wh-24 dc-u-color-white dc-u-d-ib dc-u-ta-center\" for=\"0\">1</label></div></li><li class=\"dc-u-mt-16 dc-u-fx dc-u-fx-jcsb\" data-cy=\"radio-list-option(1)\"><div><label class=\"dc-input-radio dc-u-cursor-pointer\" for=\"1\"><input class=\"dc-input-radio__input\" id=\"1\" name=\"exercise=526214\" type=\"radio\" value=\"1\"><span class=\"dc-input-radio__indicator\"></span><span class=\"dc-input-radio__text\"><div class=\"\">Web scraping can be useful for reading through social media posts between users in different areas to compare different language usage.</div></span></label></div><div class=\"dc-u-fx-aic dc-u-ifx\">press<label class=\"dc-u-cursor-pointer dc-u-bgc-navy dc-u-ml-8 dc-u-brad-all dc-u-bs-lg dc-u-wh-24 dc-u-color-white dc-u-d-ib dc-u-ta-center\" for=\"1\">2</label></div></li><li class=\"dc-u-mt-16 dc-u-fx dc-u-fx-jcsb\" data-cy=\"radio-list-option(2)\"><div><label class=\"dc-input-radio dc-u-cursor-pointer\" for=\"2\"><input class=\"dc-input-radio__input\" id=\"2\" name=\"exercise=526214\" type=\"radio\" value=\"2\"><span class=\"dc-input-radio__indicator\"></span><span class=\"dc-input-radio__text\"><div class=\"\">Web scraping can be useful for going through online news publications to pick out articles discussing a particular topic.</div></span></label></div><div class=\"dc-u-fx-aic dc-u-ifx\">press<label class=\"dc-u-cursor-pointer dc-u-bgc-navy dc-u-ml-8 dc-u-brad-all dc-u-bs-lg dc-u-wh-24 dc-u-color-white dc-u-d-ib dc-u-ta-center\" for=\"2\">3</label></div></li><li class=\"dc-u-mt-16 dc-u-fx dc-u-fx-jcsb\" data-cy=\"radio-list-option(3)\"><div><label class=\"dc-input-radio dc-u-cursor-pointer\" for=\"3\"><input class=\"dc-input-radio__input\" id=\"3\" name=\"exercise=526214\" type=\"radio\" value=\"3\" checked=\"\"><span class=\"dc-input-radio__indicator\"></span><span class=\"dc-input-radio__text\"><div class=\"\">None of the above, everyone believes web scraping is nonsense!</div></span></label></div><div class=\"dc-u-fx-aic dc-u-ifx\">press<label class=\"dc-u-cursor-pointer dc-u-bgc-navy dc-u-ml-8 dc-u-brad-all dc-u-bs-lg dc-u-wh-24 dc-u-color-white dc-u-d-ib dc-u-ta-center\" for=\"3\">4</label></div></li></ul><div class=\"dc-edge-to-edge\" style=\"bottom: -16px; position: absolute; right: 16px;\"><div class=\"dc-edge-to-edge__item\"></div><div class=\"dc-edge-to-edge__item\"><button aria-label=\"button\" class=\"dc-btn dc-btn--green dc-btn--sm dc-pmce-submit-button \" type=\"button\" data-cy=\"submit-button\"><span><div class=\"dc-btn__content\">Submit Answer</div></span></button></div></div></div>"
      ]
    },
    {
      "cell_type": "markdown",
      "metadata": {
        "id": "_uZ6J9vPo9ir"
      },
      "source": [
        "<div><div class=\"dc-u-p-24\"><h1 class=\"dc-u-fs-h3\">HTML tree wordy navigation</h1><div class=\"\"><p><img src=\"https://assets.datacamp.com/production/repositories/2560/datasets/8f121c655bdba22173091a1ceb1bbdd113573c3b/html_tree_exercise.png\" alt=\"html_tree_exercise.png\"></p>\n",
        "<p>Given the html tree, which of the following does not correctly navigate to the paragraph element containing \"Hello World!\"?</p></div></div></div>\n",
        "\n",
        "<div class=\"dc-panel__body\" style=\"position: relative;\"><h4>Possible Answers</h4><ul class=\"dc-u-lst-none dc-u-m-none dc-u-p-16 dc-u-w-100pc\"><li class=\"dc-u-mt-16 dc-u-fx dc-u-fx-jcsb\" data-cy=\"radio-list-option(0)\"><div><label class=\"dc-input-radio dc-u-cursor-pointer\" for=\"0\"><input class=\"dc-input-radio__input\" id=\"0\" name=\"exercise=526216\" type=\"radio\" value=\"0\"><span class=\"dc-input-radio__indicator\"></span><span class=\"dc-input-radio__text\"><div class=\"\">The first child of the <code>body</code> element</div></span></label></div><div class=\"dc-u-fx-aic dc-u-ifx\">press<label class=\"dc-u-cursor-pointer dc-u-bgc-navy dc-u-ml-8 dc-u-brad-all dc-u-bs-lg dc-u-wh-24 dc-u-color-white dc-u-d-ib dc-u-ta-center\" for=\"0\">1</label></div></li><li class=\"dc-u-mt-16 dc-u-fx dc-u-fx-jcsb\" data-cy=\"radio-list-option(1)\"><div><label class=\"dc-input-radio dc-u-cursor-pointer\" for=\"1\"><input class=\"dc-input-radio__input\" id=\"1\" name=\"exercise=526216\" type=\"radio\" value=\"1\"><span class=\"dc-input-radio__indicator\"></span><span class=\"dc-input-radio__text\"><div class=\"\">The first child of the second child of the root <code>html</code> element.</div></span></label></div><div class=\"dc-u-fx-aic dc-u-ifx\">press<label class=\"dc-u-cursor-pointer dc-u-bgc-navy dc-u-ml-8 dc-u-brad-all dc-u-bs-lg dc-u-wh-24 dc-u-color-white dc-u-d-ib dc-u-ta-center\" for=\"1\">2</label></div></li><li class=\"dc-u-mt-16 dc-u-fx dc-u-fx-jcsb\" data-cy=\"radio-list-option(2)\"><div><label class=\"dc-input-radio dc-u-cursor-pointer\" for=\"2\"><input class=\"dc-input-radio__input\" id=\"2\" name=\"exercise=526216\" type=\"radio\" value=\"2\" checked=\"\"><span class=\"dc-input-radio__indicator\"></span><span class=\"dc-input-radio__text\"><div class=\"\">The first sibling of the <code>title</code> element.</div></span></label></div><div class=\"dc-u-fx-aic dc-u-ifx\">press<label class=\"dc-u-cursor-pointer dc-u-bgc-navy dc-u-ml-8 dc-u-brad-all dc-u-bs-lg dc-u-wh-24 dc-u-color-white dc-u-d-ib dc-u-ta-center\" for=\"2\">3</label></div></li><li class=\"dc-u-mt-16 dc-u-fx dc-u-fx-jcsb\" data-cy=\"radio-list-option(3)\"><div><label class=\"dc-input-radio dc-u-cursor-pointer\" for=\"3\"><input class=\"dc-input-radio__input\" id=\"3\" name=\"exercise=526216\" type=\"radio\" value=\"3\"><span class=\"dc-input-radio__indicator\"></span><span class=\"dc-input-radio__text\"><div class=\"\">The only sibling of the paragraph <code>p</code> element containing the text \"Enjoy DataCamp!\".</div></span></label></div><div class=\"dc-u-fx-aic dc-u-ifx\">press<label class=\"dc-u-cursor-pointer dc-u-bgc-navy dc-u-ml-8 dc-u-brad-all dc-u-bs-lg dc-u-wh-24 dc-u-color-white dc-u-d-ib dc-u-ta-center\" for=\"3\">4</label></div></li><li class=\"dc-u-mt-16 dc-u-fx dc-u-fx-jcsb\" data-cy=\"radio-list-option(4)\"><div><label class=\"dc-input-radio dc-u-cursor-pointer\" for=\"4\"><input class=\"dc-input-radio__input\" id=\"4\" name=\"exercise=526216\" type=\"radio\" value=\"4\"><span class=\"dc-input-radio__indicator\"></span><span class=\"dc-input-radio__text\"><div class=\"\">The first paragraph element.</div></span></label></div><div class=\"dc-u-fx-aic dc-u-ifx\">press<label class=\"dc-u-cursor-pointer dc-u-bgc-navy dc-u-ml-8 dc-u-brad-all dc-u-bs-lg dc-u-wh-24 dc-u-color-white dc-u-d-ib dc-u-ta-center\" for=\"4\">5</label></div></li></ul><div class=\"dc-edge-to-edge\" style=\"bottom: -16px; position: absolute; right: 16px;\"><div class=\"dc-edge-to-edge__item\"></div><div class=\"dc-edge-to-edge__item\"><button aria-label=\"button\" class=\"dc-btn dc-btn--green dc-btn--sm dc-pmce-submit-button \" type=\"button\" data-cy=\"submit-button\"><span><div class=\"dc-btn__content\">Submit Answer</div></span></button></div></div></div>"
      ]
    },
    {
      "cell_type": "markdown",
      "metadata": {
        "id": "6Ce9Dvg6paZB"
      },
      "source": [
        ""
      ]
    }
  ]
}